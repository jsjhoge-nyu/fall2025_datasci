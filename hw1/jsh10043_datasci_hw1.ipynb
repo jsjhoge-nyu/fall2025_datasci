{
  "nbformat": 4,
  "nbformat_minor": 0,
  "metadata": {
    "colab": {
      "provenance": []
    },
    "kernelspec": {
      "name": "python3",
      "display_name": "Python 3"
    },
    "language_info": {
      "name": "python"
    }
  },
  "cells": [
    {
      "cell_type": "markdown",
      "source": [
        "Josh Hoge\n",
        "\n",
        "jsh10043@nyu.edu\n",
        "\n",
        "NYU Tandon Data Science Bootcamp Week 1 Exercises\n"
      ],
      "metadata": {
        "id": "MkoEobUEgdMx"
      }
    },
    {
      "cell_type": "code",
      "source": [
        "# Exercise 1\n",
        "# write a program that takes a word as input and prints the number of\n",
        "# vowels in the word. This could be improved by adding cases for 'y'\n",
        "# as a vowel.\n",
        "\n",
        "vowels = ['a', 'e', 'i', 'o', 'u']\n",
        "input = \"address\"\n",
        "count = 0\n",
        "for i in list(input):\n",
        "  if i in vowels:\n",
        "    count += 1\n",
        "print(count)"
      ],
      "metadata": {
        "colab": {
          "base_uri": "https://localhost:8080/"
        },
        "id": "CrAmKLfOgvGB",
        "outputId": "64b6f8f1-cf21-4f4c-8556-124c0be4f6e2"
      },
      "execution_count": 4,
      "outputs": [
        {
          "output_type": "stream",
          "name": "stdout",
          "text": [
            "2\n"
          ]
        }
      ]
    },
    {
      "cell_type": "code",
      "source": [
        "# Exercise 2\n",
        "# iterate through the following list of animals and print each one in all caps\n",
        "\n",
        "animals=['tiger', 'elephant', 'monkey', 'zebra', 'panther']\n",
        "for i in animals:\n",
        "  print(i.upper())"
      ],
      "metadata": {
        "colab": {
          "base_uri": "https://localhost:8080/"
        },
        "outputId": "6d317148-0654-4b05-85cf-c1d31e7dd426",
        "id": "V_Z4HDPi91-w"
      },
      "execution_count": 5,
      "outputs": [
        {
          "output_type": "stream",
          "name": "stdout",
          "text": [
            "TIGER\n",
            "ELEPHANT\n",
            "MONKEY\n",
            "ZEBRA\n",
            "PANTHER\n"
          ]
        }
      ]
    },
    {
      "cell_type": "code",
      "source": [
        "# Exercise 3\n",
        "# write a program that iterates from 1 to 20, printing each number and whether\n",
        "# it's odd or even\n",
        "\n",
        "for i in range(1, 21):\n",
        "  if i % 2 == 0:\n",
        "    print(f\"{i} is even\")\n",
        "  else:\n",
        "    print(f\"{i} is odd\")"
      ],
      "metadata": {
        "colab": {
          "base_uri": "https://localhost:8080/"
        },
        "id": "07itKvkv-MNB",
        "outputId": "b5b843c5-155c-492a-8ffb-40564bbb30bd"
      },
      "execution_count": 6,
      "outputs": [
        {
          "output_type": "stream",
          "name": "stdout",
          "text": [
            "1 is odd\n",
            "2 is even\n",
            "3 is odd\n",
            "4 is even\n",
            "5 is odd\n",
            "6 is even\n",
            "7 is odd\n",
            "8 is even\n",
            "9 is odd\n",
            "10 is even\n",
            "11 is odd\n",
            "12 is even\n",
            "13 is odd\n",
            "14 is even\n",
            "15 is odd\n",
            "16 is even\n",
            "17 is odd\n",
            "18 is even\n",
            "19 is odd\n",
            "20 is even\n"
          ]
        }
      ]
    },
    {
      "cell_type": "code",
      "source": [
        "# Exercise 4\n",
        "# write a program to check if a string is a palindrome or not\n",
        "\n",
        "input = \"civic\"\n",
        "reverse = input[::-1]\n",
        "if input == reverse:\n",
        "  print(f\"{input} is a palindrome\")\n",
        "else:\n",
        "  print(f\"{input} is not a palindrome\")"
      ],
      "metadata": {
        "colab": {
          "base_uri": "https://localhost:8080/"
        },
        "id": "meucZoLy-W2I",
        "outputId": "9ace2ff2-4993-467c-da01-b489c302c106"
      },
      "execution_count": 9,
      "outputs": [
        {
          "output_type": "stream",
          "name": "stdout",
          "text": [
            "civic is a palindrome\n"
          ]
        }
      ]
    },
    {
      "cell_type": "code",
      "source": [
        "# Exercise 5\n",
        "# wite a function sum_of_integers(a, b) that takes two integers as input from\n",
        "# the user and returns their sum\n",
        "\n",
        "a = 1\n",
        "b = 4\n",
        "\n",
        "def sum_of_integers(a, b):\n",
        "  return a + b\n",
        "\n",
        "print(sum_of_integers(a, b))"
      ],
      "metadata": {
        "colab": {
          "base_uri": "https://localhost:8080/"
        },
        "id": "acbUM23S-9-2",
        "outputId": "adf650ae-eadd-441c-8106-0072e2ecd542"
      },
      "execution_count": 11,
      "outputs": [
        {
          "output_type": "stream",
          "name": "stdout",
          "text": [
            "5\n"
          ]
        }
      ]
    }
  ]
}