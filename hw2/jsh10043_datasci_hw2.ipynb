{
  "nbformat": 4,
  "nbformat_minor": 0,
  "metadata": {
    "colab": {
      "provenance": []
    },
    "kernelspec": {
      "name": "python3",
      "display_name": "Python 3"
    },
    "language_info": {
      "name": "python"
    }
  },
  "cells": [
    {
      "cell_type": "markdown",
      "source": [
        "Josh Hoge\n",
        "\n",
        "jsh10043@nyu.edu\n",
        "\n",
        "NYU Tandon Data Science Bootcamp Week 2 Exercises\n"
      ],
      "metadata": {
        "id": "MkoEobUEgdMx"
      }
    },
    {
      "cell_type": "markdown",
      "source": [
        "##Practice Questions for numpy"
      ],
      "metadata": {
        "id": "AaTEKMgN8glW"
      }
    },
    {
      "cell_type": "code",
      "source": [
        "# Exercise 1\n",
        "# Define two custom numpy arrays, say A and B.\n",
        "# Generate two new numpy arrays by stacking A and B vertically and horizontally.\n",
        "\n",
        "import numpy as np\n",
        "\n",
        "A = np.array([1, 2, 3])\n",
        "B = np.array([4, 5, 6])\n",
        "\n",
        "C = np.vstack((A, B))\n",
        "D = np.hstack((A, B))\n",
        "\n",
        "print(\"Array C:\\n\",C,\"\\n\")\n",
        "print(\"Array D:\\n\",D)"
      ],
      "metadata": {
        "id": "CrAmKLfOgvGB",
        "colab": {
          "base_uri": "https://localhost:8080/"
        },
        "outputId": "b711ae08-1ad4-4904-f2b9-e62fa66274e1"
      },
      "execution_count": 14,
      "outputs": [
        {
          "output_type": "stream",
          "name": "stdout",
          "text": [
            "Array C:\n",
            " [[1 2 3]\n",
            " [4 5 6]] \n",
            "\n",
            "Array D:\n",
            " [1 2 3 4 5 6]\n"
          ]
        }
      ]
    },
    {
      "cell_type": "code",
      "source": [
        "# Exercise 2\n",
        "# Find common elements between A and B. [Hint : Intersection of two sets]\n",
        "\n",
        "import numpy as np\n",
        "\n",
        "A = np.array([1, 2, 5])\n",
        "B = np.array([4, 5, 6])\n",
        "\n",
        "C = np.intersect1d(A, B)\n",
        "\n",
        "print(\"Array A:\\n\",A,\"\\n\")\n",
        "print(\"Array B:\\n\",B,\"\\n\")\n",
        "print(\"Intersection of A and B:\\n\",C)"
      ],
      "metadata": {
        "id": "V_Z4HDPi91-w",
        "colab": {
          "base_uri": "https://localhost:8080/"
        },
        "outputId": "cec9ac09-ac42-49f5-be17-61e35998502e"
      },
      "execution_count": 15,
      "outputs": [
        {
          "output_type": "stream",
          "name": "stdout",
          "text": [
            "Array A:\n",
            " [1 2 5] \n",
            "\n",
            "Array B:\n",
            " [4 5 6] \n",
            "\n",
            "Intersection of A and B:\n",
            " [5]\n"
          ]
        }
      ]
    },
    {
      "cell_type": "code",
      "source": [
        "# Exercise 3\n",
        "# Extract all numbers from A which are within a specific range. eg between 5 and 10.\n",
        "# [Hint: np.where() might be useful or boolean masks]\n",
        "\n",
        "import numpy as np\n",
        "\n",
        "A = np.array([0, 1, 2, 3, 4, 5, 6, 7, 8, 9, 10, 11, 12, 13])\n",
        "low = 5\n",
        "high = 10\n",
        "\n",
        "print(\"Array A:\\n\",A,\"\\n\")\n",
        "print(\"Range:\\n\",low,\"-\",high,\"\\n\")\n",
        "print(\"Array elements in range:\\n\",A[(A > low) & (A < high)])\n"
      ],
      "metadata": {
        "id": "07itKvkv-MNB",
        "colab": {
          "base_uri": "https://localhost:8080/"
        },
        "outputId": "e9c4fb98-683d-40d8-e4a2-0952041e25f1"
      },
      "execution_count": 21,
      "outputs": [
        {
          "output_type": "stream",
          "name": "stdout",
          "text": [
            "Array A:\n",
            " [ 0  1  2  3  4  5  6  7  8  9 10 11 12 13] \n",
            "\n",
            "Range:\n",
            " 5 - 10 \n",
            "\n",
            "Array elements in range:\n",
            " [6 7 8 9]\n"
          ]
        }
      ]
    },
    {
      "cell_type": "code",
      "source": [
        "# Exercise 4\n",
        "# Filter the rows of iris_2d that has petallength (3rd column) > 1.5 and sepallength (1st column) < 5.0\n",
        "\n",
        "import numpy as np\n",
        "\n",
        "url = 'https://archive.ics.uci.edu/ml/machine-learning-databases/iris/iris.data'\n",
        "iris_2d = np.genfromtxt(url, delimiter=',', dtype='float', usecols=[0,1,2,3])\n",
        "\n",
        "# print \".0\" after whole numbers for consistency\n",
        "np.set_printoptions(formatter={'float_kind':lambda x: f'{x:.1f}'})\n",
        "\n",
        "print(\"Rows with petallength > 1.5 and sepallength < 5.0:\\n\")\n",
        "print(iris_2d[(iris_2d[:,2] > 1.5) & (iris_2d[:,0] < 5.0)])"
      ],
      "metadata": {
        "id": "meucZoLy-W2I",
        "colab": {
          "base_uri": "https://localhost:8080/"
        },
        "outputId": "2fa3a562-7fe3-4fc6-af73-810189da634c"
      },
      "execution_count": 25,
      "outputs": [
        {
          "output_type": "stream",
          "name": "stdout",
          "text": [
            "Rows with petallength > 1.5 and sepallength < 5.0:\n",
            "\n",
            "[[4.8 3.4 1.6 0.2]\n",
            " [4.8 3.4 1.9 0.2]\n",
            " [4.7 3.2 1.6 0.2]\n",
            " [4.8 3.1 1.6 0.2]\n",
            " [4.9 2.4 3.3 1.0]\n",
            " [4.9 2.5 4.5 1.7]]\n"
          ]
        }
      ]
    },
    {
      "cell_type": "code",
      "source": [
        "## Optional Practice Question\n",
        "#Find the mean of a numeric column grouped by a categorical column in a 2D numpy array\n",
        "\n",
        "import numpy as np\n",
        "\n",
        "url = 'https://archive.ics.uci.edu/ml/machine-learning-databases/iris/iris.data'\n",
        "iris = np.genfromtxt(url, delimiter=',', dtype='object')\n",
        "names = ('sepallength', 'sepalwidth', 'petallength', 'petalwidth', 'species')\n",
        "\n",
        "\n",
        "numeric_column = iris[:, 1].astype('float')  # sepalwidth\n",
        "grouping_column = iris[:, 4] # species\n",
        "\n",
        "output = []\n",
        "for group in np.unique(grouping_column):\n",
        "    output.append([group, numeric_column[grouping_column==group].mean()])\n",
        "\n",
        "print(output)\n"
      ],
      "metadata": {
        "id": "acbUM23S-9-2",
        "colab": {
          "base_uri": "https://localhost:8080/"
        },
        "outputId": "673bd87e-d1d1-4d52-85eb-31e5da05f20b"
      },
      "execution_count": 28,
      "outputs": [
        {
          "output_type": "stream",
          "name": "stdout",
          "text": [
            "[[b'Iris-setosa', np.float64(3.418)], [b'Iris-versicolor', np.float64(2.7700000000000005)], [b'Iris-virginica', np.float64(2.974)]]\n"
          ]
        }
      ]
    },
    {
      "cell_type": "markdown",
      "source": [
        "##Practice Questions for Pandas"
      ],
      "metadata": {
        "id": "DnmnsF758r0A"
      }
    },
    {
      "cell_type": "code",
      "source": [
        "# Exercise 1\n",
        "# From df filter the 'Manufacturer', 'Model' and 'Type' for every 20th row starting from 1st (row 0).\n",
        "\n",
        "import pandas as pd\n",
        "import numpy as np\n",
        "\n",
        "df = pd.read_csv('https://raw.githubusercontent.com/selva86/datasets/master/Cars93_miss.csv')\n",
        "\n",
        "print(df[::20][['Manufacturer', 'Model', 'Type']])\n",
        "\n"
      ],
      "metadata": {
        "id": "97_vfch48236",
        "colab": {
          "base_uri": "https://localhost:8080/"
        },
        "outputId": "c4c7cbe4-7111-4454-a87f-14ef1a2f9f6d"
      },
      "execution_count": 29,
      "outputs": [
        {
          "output_type": "stream",
          "name": "stdout",
          "text": [
            "   Manufacturer    Model     Type\n",
            "0         Acura  Integra    Small\n",
            "20     Chrysler  LeBaron  Compact\n",
            "40        Honda  Prelude   Sporty\n",
            "60      Mercury   Cougar  Midsize\n",
            "80       Subaru   Loyale    Small\n"
          ]
        }
      ]
    },
    {
      "cell_type": "code",
      "source": [
        "# Exercise 2\n",
        "# Replace missing values in Min.Price and Max.Price columns with their respective mean.\n",
        "\n",
        "import pandas as pd\n",
        "import numpy as np\n",
        "\n",
        "df = pd.read_csv('https://raw.githubusercontent.com/selva86/datasets/master/Cars93_miss.csv')\n",
        "\n",
        "\n",
        "df['Min.Price'] = df['Min.Price'].fillna(df['Min.Price'].mean())\n",
        "df['Max.Price'] = df['Max.Price'].fillna(df['Max.Price'].mean())\n",
        "\n",
        "print(df)"
      ],
      "metadata": {
        "id": "w3VKIf8DDZIQ",
        "colab": {
          "base_uri": "https://localhost:8080/"
        },
        "outputId": "89f1872d-990c-4f6b-9810-ad21165b69a7"
      },
      "execution_count": 30,
      "outputs": [
        {
          "output_type": "stream",
          "name": "stdout",
          "text": [
            "   Manufacturer    Model     Type  Min.Price  Price  Max.Price  MPG.city  \\\n",
            "0         Acura  Integra    Small  12.900000   15.9  18.800000      25.0   \n",
            "1           NaN   Legend  Midsize  29.200000   33.9  38.700000      18.0   \n",
            "2          Audi       90  Compact  25.900000   29.1  32.300000      20.0   \n",
            "3          Audi      100  Midsize  17.118605   37.7  44.600000      19.0   \n",
            "4           BMW     535i  Midsize  17.118605   30.0  21.459091      22.0   \n",
            "..          ...      ...      ...        ...    ...        ...       ...   \n",
            "88   Volkswagen  Eurovan      Van  16.600000   19.7  22.700000      17.0   \n",
            "89   Volkswagen   Passat  Compact  17.600000   20.0  22.400000      21.0   \n",
            "90   Volkswagen  Corrado   Sporty  22.900000   23.3  23.700000      18.0   \n",
            "91        Volvo      240  Compact  21.800000   22.7  23.500000      21.0   \n",
            "92          NaN      850  Midsize  24.800000   26.7  28.500000      20.0   \n",
            "\n",
            "    MPG.highway             AirBags DriveTrain  ... Passengers  Length  \\\n",
            "0          31.0                 NaN      Front  ...        5.0   177.0   \n",
            "1          25.0  Driver & Passenger      Front  ...        5.0   195.0   \n",
            "2          26.0         Driver only      Front  ...        5.0   180.0   \n",
            "3          26.0  Driver & Passenger        NaN  ...        6.0   193.0   \n",
            "4          30.0                 NaN       Rear  ...        4.0   186.0   \n",
            "..          ...                 ...        ...  ...        ...     ...   \n",
            "88         21.0                 NaN      Front  ...        7.0   187.0   \n",
            "89         30.0                 NaN      Front  ...        5.0   180.0   \n",
            "90         25.0                 NaN      Front  ...        4.0   159.0   \n",
            "91         28.0         Driver only       Rear  ...        5.0   190.0   \n",
            "92         28.0  Driver & Passenger      Front  ...        5.0   184.0   \n",
            "\n",
            "    Wheelbase  Width  Turn.circle Rear.seat.room  Luggage.room  Weight  \\\n",
            "0       102.0   68.0         37.0           26.5           NaN  2705.0   \n",
            "1       115.0   71.0         38.0           30.0          15.0  3560.0   \n",
            "2       102.0   67.0         37.0           28.0          14.0  3375.0   \n",
            "3       106.0    NaN         37.0           31.0          17.0  3405.0   \n",
            "4       109.0   69.0         39.0           27.0          13.0  3640.0   \n",
            "..        ...    ...          ...            ...           ...     ...   \n",
            "88      115.0   72.0         38.0           34.0           NaN  3960.0   \n",
            "89      103.0   67.0         35.0           31.5          14.0  2985.0   \n",
            "90       97.0   66.0         36.0           26.0          15.0  2810.0   \n",
            "91      104.0   67.0         37.0           29.5          14.0  2985.0   \n",
            "92      105.0   69.0         38.0           30.0          15.0  3245.0   \n",
            "\n",
            "     Origin                Make  \n",
            "0   non-USA       Acura Integra  \n",
            "1   non-USA        Acura Legend  \n",
            "2   non-USA             Audi 90  \n",
            "3   non-USA            Audi 100  \n",
            "4   non-USA            BMW 535i  \n",
            "..      ...                 ...  \n",
            "88      NaN  Volkswagen Eurovan  \n",
            "89  non-USA   Volkswagen Passat  \n",
            "90  non-USA  Volkswagen Corrado  \n",
            "91  non-USA           Volvo 240  \n",
            "92  non-USA           Volvo 850  \n",
            "\n",
            "[93 rows x 27 columns]\n"
          ]
        }
      ]
    },
    {
      "cell_type": "code",
      "source": [
        "# Exercise 3\n",
        "# How to get the rows of a dataframe with row sum > 100?\n",
        "\n",
        "import pandas as pd\n",
        "import numpy as np\n",
        "\n",
        "df = pd.DataFrame(np.random.randint(10, 40, 60).reshape(-1, 4))\n",
        "\n",
        "print(\"Original dataframe:\\n\")\n",
        "print(df)\n",
        "print(\"\\nDataframe rows with sum > 100:\\n\")\n",
        "print(df[df.sum(axis=1) > 100])"
      ],
      "metadata": {
        "id": "AM0y_UvNDZZS",
        "colab": {
          "base_uri": "https://localhost:8080/"
        },
        "outputId": "f2744037-51d7-423b-dfc4-1e2d0f63c36f"
      },
      "execution_count": 33,
      "outputs": [
        {
          "output_type": "stream",
          "name": "stdout",
          "text": [
            "Original dataframe:\n",
            "\n",
            "     0   1   2   3\n",
            "0   28  21  20  18\n",
            "1   20  31  37  36\n",
            "2   36  17  34  10\n",
            "3   19  36  32  32\n",
            "4   37  13  32  22\n",
            "5   30  15  30  39\n",
            "6   32  19  36  29\n",
            "7   13  39  38  17\n",
            "8   15  30  26  25\n",
            "9   38  18  35  23\n",
            "10  12  28  10  35\n",
            "11  13  16  21  13\n",
            "12  14  13  37  30\n",
            "13  25  17  34  21\n",
            "14  32  18  21  37\n",
            "\n",
            "Dataframe rows with sum > 100:\n",
            "\n",
            "     0   1   2   3\n",
            "1   20  31  37  36\n",
            "3   19  36  32  32\n",
            "4   37  13  32  22\n",
            "5   30  15  30  39\n",
            "6   32  19  36  29\n",
            "7   13  39  38  17\n",
            "9   38  18  35  23\n",
            "14  32  18  21  37\n"
          ]
        }
      ]
    }
  ]
}